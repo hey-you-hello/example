{
  "nbformat": 4,
  "nbformat_minor": 0,
  "metadata": {
    "colab": {
      "provenance": [],
      "authorship_tag": "ABX9TyOUbVZ1U6lURDrMmJckE8kv",
      "include_colab_link": true
    },
    "kernelspec": {
      "name": "python3",
      "display_name": "Python 3"
    },
    "language_info": {
      "name": "python"
    }
  },
  "cells": [
    {
      "cell_type": "markdown",
      "metadata": {
        "id": "view-in-github",
        "colab_type": "text"
      },
      "source": [
        "<a href=\"https://colab.research.google.com/github/hey-you-hello/example/blob/main/%E5%AF%86%E7%A2%BC!.ipynb\" target=\"_parent\"><img src=\"https://colab.research.google.com/assets/colab-badge.svg\" alt=\"Open In Colab\"/></a>"
      ]
    },
    {
      "cell_type": "code",
      "execution_count": 4,
      "metadata": {
        "id": "9VQO-xVUrW6s",
        "outputId": "6e4d871f-f602-40a3-8d15-4ab6b03be292",
        "colab": {
          "base_uri": "https://localhost:8080/"
        }
      },
      "outputs": [
        {
          "output_type": "stream",
          "name": "stdout",
          "text": [
            "詹晉瑜生日日期?10\n",
            "\n",
            "\n",
            "很好，恭喜你成功通過第一段加密！\n",
            "但是是接下來的解密你自己一定是不只道的\n",
            "所以說一定要和GP^討論！和你的GP^說\n",
            "密文寫在裡面的code屬性\n",
            "提示是：這有可能是執行檔案喔\n",
            "\n",
            "\n"
          ]
        }
      ],
      "source": [
        "import base64\n",
        "import requests\n",
        "#使用這裡面的東東來解密以獲得幫助！\n",
        "key=int(input('詹晉瑜生日日期?'))\n",
        "這是幫助='''\n",
        "\n",
        "徒妇，恷喦佪戚助逤遘笶上殿努寐！\n",
        "佐昹昹掯丕侐皎觭寐佪致巻上室昹丗叴遝皎\n",
        "扊仯誴上室見咖QZ^記諠！咖佪皎QZ^誴\n",
        "寐斑寵圲裫靬皎myno屶怱\n",
        "揚祄昹：連朓叹脇昹堁衖檞桒喞\n",
        "\n",
        "'''\n",
        "code=requests.get(\"https://brawlstar-theta.vercel.app/%E6%88%91%E6%9C%89%E5%8F%AF%E8%83%BD%E6%98%AF%E5%9F%B7%E8%A1%8C%E6%AA%94%E5%95%94.txt\").text\n",
        "\n",
        "class Caesar:\n",
        "    def __init__(self, shift):\n",
        "        self.shift = shift\n",
        "\n",
        "    def encrypt(self, text):\n",
        "        result = \"\"\n",
        "        for char in text:\n",
        "            if char.isalpha():\n",
        "                base = ord('A') if char.isupper() else ord('a')\n",
        "\n",
        "                shifted = (ord(char) - base + self.shift) + base\n",
        "                result += chr(shifted)\n",
        "            else:\n",
        "                result += char\n",
        "        return result\n",
        "\n",
        "    def decrypt(self, text):\n",
        "\n",
        "        return Caesar(-self.shift).encrypt(text)\n",
        "\n",
        "print(Caesar(key).decrypt(這是幫助))"
      ]
    },
    {
      "cell_type": "code",
      "source": [],
      "metadata": {
        "id": "fWT1vMWxrXiq"
      },
      "execution_count": null,
      "outputs": []
    }
  ]
}